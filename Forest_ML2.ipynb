{
 "cells": [
  {
   "cell_type": "code",
   "execution_count": 1,
   "id": "03df2fed",
   "metadata": {},
   "outputs": [],
   "source": [
    "import pandas as pd\n",
    "import numpy as np\n",
    "from xgboost import XGBClassifier\n",
    "from sklearn.ensemble import ExtraTreesClassifier"
   ]
  },
  {
   "cell_type": "code",
   "execution_count": 2,
   "id": "1677b624",
   "metadata": {},
   "outputs": [],
   "source": [
    "df = pd.read_csv(\"train.csv\")\n",
    "df_test = pd.read_csv(\"test-full.csv\")"
   ]
  },
  {
   "cell_type": "markdown",
   "id": "00f6755a",
   "metadata": {},
   "source": [
    "## Reversing one-hot encoding soil"
   ]
  },
  {
   "cell_type": "code",
   "execution_count": 4,
   "id": "96666a7e",
   "metadata": {},
   "outputs": [],
   "source": [
    "def split_numbers_chars(row): # copied this code \n",
    "    '''This function fetches the numerical characters at the end of a string\n",
    "    and returns alphabetical character and numerical chaarcters respectively'''\n",
    "    head = row.rstrip('0123456789')\n",
    "    tail = row[len(head):]\n",
    "    return head, tail\n",
    "\n",
    "def reverse_one_hot_encode(dataframe, start_loc, end_loc, numeric_column_name):\n",
    "    ''' this function takes the start and end location of the one-hot-encoded column set and numeric column name to be created as arguments\n",
    "    1) transforms one-hot-encoded columns into one column consisting of column names with string data type\n",
    "    2) splits string column into the alphabetical and numerical characters\n",
    "    3) fetches numerical character and creates numeric column in the given dataframe\n",
    "    '''\n",
    "    dataframe['String_Column'] = (dataframe.iloc[:, start_loc:end_loc] == 1).idxmax(1)\n",
    "    dataframe['Tuple_Column'] = dataframe['String_Column'].apply(split_numbers_chars)\n",
    "    dataframe[numeric_column_name] = dataframe['Tuple_Column'].apply(lambda x: x[1]).astype('int64')\n",
    "    dataframe.drop(columns=['String_Column','Tuple_Column'], inplace=True)"
   ]
  },
  {
   "cell_type": "code",
   "execution_count": 5,
   "id": "b1015b14",
   "metadata": {},
   "outputs": [],
   "source": [
    "reverse_one_hot_encode(df, 15, 55, \"Soil_Type\")\n",
    "reverse_one_hot_encode(df_test, 15, 55, \"Soil_Type\")"
   ]
  },
  {
   "cell_type": "code",
   "execution_count": 6,
   "id": "c5dae868",
   "metadata": {},
   "outputs": [],
   "source": [
    "cols_to_drop = list(df.iloc[:, 15:55].columns)\n",
    "df.drop(columns=cols_to_drop, inplace=True)\n",
    "df_test.drop(columns=cols_to_drop, inplace=True)"
   ]
  },
  {
   "cell_type": "markdown",
   "id": "65415568",
   "metadata": {},
   "source": [
    "## Feature Engineering"
   ]
  },
  {
   "cell_type": "code",
   "execution_count": 9,
   "id": "45596bc8",
   "metadata": {},
   "outputs": [],
   "source": [
    "df['Euclidian_Distance_To_Hydrology'] = (df['Horizontal_Distance_To_Hydrology']**2 + df['Vertical_Distance_To_Hydrology']**2)**0.5\n",
    "df['Mean_Elevation_Vertical_Distance_Hydrology'] = (df['Elevation'] + df['Vertical_Distance_To_Hydrology'])/2\n",
    "df['Mean_Distance_Hydrology_Firepoints'] = (df['Horizontal_Distance_To_Hydrology'] + df['Horizontal_Distance_To_Fire_Points'])/2\n",
    "df['Mean_Distance_Hydrology_Roadways'] = (df['Horizontal_Distance_To_Hydrology'] + df['Horizontal_Distance_To_Roadways'])/2\n",
    "df['Mean_Distance_Firepoints_Roadways'] = (df['Horizontal_Distance_To_Fire_Points'] + df['Horizontal_Distance_To_Roadways'])/2\n",
    "#df['Slope_hydrology_percent'] = df['Vertical_Distance_To_Hydrology']/df['Horizontal_Distance_To_Hydrology']\n",
    "#df.Slope_hydrology_percent=df.Slope_hydrology_percent.map(lambda x: 0 if np.isinf(x) else x) "
   ]
  },
  {
   "cell_type": "code",
   "execution_count": 10,
   "id": "e65cd943",
   "metadata": {},
   "outputs": [],
   "source": [
    "df_test['Euclidian_Distance_To_Hydrology'] = (df_test['Horizontal_Distance_To_Hydrology']**2 + df_test['Vertical_Distance_To_Hydrology']**2)**0.5\n",
    "df_test['Mean_Elevation_Vertical_Distance_Hydrology'] = (df_test['Elevation'] + df_test['Vertical_Distance_To_Hydrology'])/2\n",
    "df_test['Mean_Distance_Hydrology_Firepoints'] = (df_test['Horizontal_Distance_To_Hydrology'] + df_test['Horizontal_Distance_To_Fire_Points'])/2\n",
    "df_test['Mean_Distance_Hydrology_Roadways'] = (df_test['Horizontal_Distance_To_Hydrology'] + df_test['Horizontal_Distance_To_Roadways'])/2\n",
    "df_test['Mean_Distance_Firepoints_Roadways'] = (df_test['Horizontal_Distance_To_Fire_Points'] + df_test['Horizontal_Distance_To_Roadways'])/2\n",
    "#df_test['Slope_hydrology_percent'] = df_test['Vertical_Distance_To_Hydrology']/df_test['Horizontal_Distance_To_Hydrology']\n",
    "#df_test.Slope_hydrology_percent=df_test.Slope_hydrology_percent.map(lambda x: 0 if np.isinf(x) else x)"
   ]
  },
  {
   "cell_type": "code",
   "execution_count": 11,
   "id": "5ec4c66a",
   "metadata": {},
   "outputs": [],
   "source": [
    "#Mean distance to Amenities \n",
    "df['Mean_Amenities']=(df.Horizontal_Distance_To_Fire_Points + df.Horizontal_Distance_To_Hydrology + df.Horizontal_Distance_To_Roadways) / 3\n",
    "df_test['Mean_Amenities']=(df_test.Horizontal_Distance_To_Fire_Points + df_test.Horizontal_Distance_To_Hydrology + df_test.Horizontal_Distance_To_Roadways) / 3\n",
    "\n",
    "#Mean Distance to Fire and Water\n",
    "df['Mean_Fire_Hyd']=(df.Horizontal_Distance_To_Fire_Points + df.Horizontal_Distance_To_Hydrology) / 2 \n",
    "df_test['Mean_Fire_Hyd']=(df_test.Horizontal_Distance_To_Fire_Points + df_test.Horizontal_Distance_To_Hydrology) / 2"
   ]
  },
  {
   "cell_type": "markdown",
   "id": "57f3a70b",
   "metadata": {},
   "source": [
    "## Model Training"
   ]
  },
  {
   "cell_type": "code",
   "execution_count": null,
   "id": "0634634c",
   "metadata": {},
   "outputs": [],
   "source": [
    "from sklearn.model_selection import train_test_split\n",
    "\n",
    "X = df.drop('Cover_Type', axis = 1)\n",
    "y = df['Cover_Type']\n",
    "\n",
    "X_train, X_test, y_train, y_test = train_test_split(X, y, test_size=0.33, random_state=42)"
   ]
  },
  {
   "cell_type": "code",
   "execution_count": 13,
   "id": "bae1d51f",
   "metadata": {},
   "outputs": [],
   "source": [
    "X_train = df.drop('Cover_Type', axis = 1)\n",
    "y_train = df['Cover_Type']\n",
    "X_test = df_test#.iloc[:, :-1]\n",
    "#y_test = df_test.iloc[:, -1]"
   ]
  },
  {
   "cell_type": "markdown",
   "id": "edb58cd3",
   "metadata": {},
   "source": [
    "## Setting param grid"
   ]
  },
  {
   "cell_type": "code",
   "execution_count": null,
   "id": "85fc50af",
   "metadata": {},
   "outputs": [],
   "source": [
    "list(range(1,7,1))"
   ]
  },
  {
   "cell_type": "code",
   "execution_count": 14,
   "id": "0a2dd7ac",
   "metadata": {},
   "outputs": [],
   "source": [
    "params = {'n_estimators': [50, 100, 300, 500, 1000], 'min_samples_split': list(range(2,8,1)),\n",
    "          'min_samples_leaf': list(range(2,8,1)),\n",
    "          'max_features' : ['auto', 'sqrt', 'log2', None]  }"
   ]
  },
  {
   "cell_type": "code",
   "execution_count": 15,
   "id": "ed628ac4",
   "metadata": {},
   "outputs": [],
   "source": [
    "from sklearn.model_selection import RandomizedSearchCV\n",
    "from sklearn.model_selection import GridSearchCV\n",
    "from sklearn.model_selection import TimeSeriesSplit, cross_val_score"
   ]
  },
  {
   "cell_type": "code",
   "execution_count": 16,
   "id": "df80c0ae",
   "metadata": {},
   "outputs": [],
   "source": [
    "clf = ExtraTreesClassifier()\n",
    "random_cv = RandomizedSearchCV(estimator=clf,\n",
    "                               param_distributions=params,\n",
    "                               cv=4, n_iter=20, \n",
    "                               scoring = 'accuracy',\n",
    "                               n_jobs = -1, verbose = 1, \n",
    "                               return_train_score = True, \n",
    "                               random_state=42)"
   ]
  },
  {
   "cell_type": "code",
   "execution_count": 17,
   "id": "bef9fc4b",
   "metadata": {},
   "outputs": [
    {
     "name": "stdout",
     "output_type": "stream",
     "text": [
      "Fitting 4 folds for each of 20 candidates, totalling 80 fits\n"
     ]
    },
    {
     "data": {
      "text/plain": [
       "RandomizedSearchCV(cv=4, estimator=ExtraTreesClassifier(), n_iter=20, n_jobs=-1,\n",
       "                   param_distributions={'max_features': ['auto', 'sqrt', 'log2',\n",
       "                                                         None],\n",
       "                                        'min_samples_leaf': [2, 3, 4, 5, 6, 7],\n",
       "                                        'min_samples_split': [2, 3, 4, 5, 6, 7],\n",
       "                                        'n_estimators': [50, 100, 300, 500,\n",
       "                                                         1000]},\n",
       "                   random_state=42, return_train_score=True, scoring='accuracy',\n",
       "                   verbose=1)"
      ]
     },
     "execution_count": 17,
     "metadata": {},
     "output_type": "execute_result"
    }
   ],
   "source": [
    "random_cv.fit(X_train, y_train)"
   ]
  },
  {
   "cell_type": "code",
   "execution_count": 18,
   "id": "910b0393",
   "metadata": {},
   "outputs": [
    {
     "data": {
      "text/plain": [
       "ExtraTreesClassifier(max_features='sqrt', min_samples_leaf=2,\n",
       "                     min_samples_split=5, n_estimators=500)"
      ]
     },
     "execution_count": 18,
     "metadata": {},
     "output_type": "execute_result"
    }
   ],
   "source": [
    "random_cv.best_estimator_"
   ]
  },
  {
   "cell_type": "code",
   "execution_count": 19,
   "id": "5e40378c",
   "metadata": {},
   "outputs": [
    {
     "data": {
      "text/plain": [
       "ExtraTreesClassifier(max_features='sqrt', min_samples_leaf=2,\n",
       "                     min_samples_split=5, n_estimators=500)"
      ]
     },
     "execution_count": 19,
     "metadata": {},
     "output_type": "execute_result"
    }
   ],
   "source": [
    "clf = ExtraTreesClassifier(max_features='sqrt', min_samples_leaf=2,\n",
    "                     min_samples_split=5, n_estimators=500)\n",
    "\n",
    "clf.fit(X_train, y_train)"
   ]
  },
  {
   "cell_type": "code",
   "execution_count": 20,
   "id": "5d63829f",
   "metadata": {},
   "outputs": [],
   "source": [
    "preds = clf.predict(X_test)"
   ]
  },
  {
   "cell_type": "code",
   "execution_count": null,
   "id": "8d70f39c",
   "metadata": {},
   "outputs": [],
   "source": [
    "preds"
   ]
  },
  {
   "cell_type": "code",
   "execution_count": null,
   "id": "7473a781",
   "metadata": {},
   "outputs": [],
   "source": [
    "X_test"
   ]
  },
  {
   "cell_type": "code",
   "execution_count": null,
   "id": "e4234e30",
   "metadata": {},
   "outputs": [],
   "source": [
    "accuracy"
   ]
  },
  {
   "cell_type": "code",
   "execution_count": null,
   "id": "f9c598e6",
   "metadata": {},
   "outputs": [],
   "source": [
    "model = XGBClassifier()"
   ]
  },
  {
   "cell_type": "code",
   "execution_count": null,
   "id": "722cf0ea",
   "metadata": {},
   "outputs": [],
   "source": [
    "model.fit(X_train, y_train)"
   ]
  },
  {
   "cell_type": "code",
   "execution_count": null,
   "id": "ccbbb110",
   "metadata": {},
   "outputs": [],
   "source": [
    "pred = model.predict(X_test)"
   ]
  },
  {
   "cell_type": "code",
   "execution_count": null,
   "id": "8fff666f",
   "metadata": {},
   "outputs": [],
   "source": [
    "df_test"
   ]
  },
  {
   "cell_type": "code",
   "execution_count": null,
   "id": "55c2fb7b",
   "metadata": {},
   "outputs": [],
   "source": [
    "pred"
   ]
  },
  {
   "cell_type": "code",
   "execution_count": 23,
   "id": "7796d9cd",
   "metadata": {},
   "outputs": [
    {
     "name": "stdout",
     "output_type": "stream",
     "text": [
      "Forest Train accuracy 0.9944444444444445\n"
     ]
    }
   ],
   "source": [
    "print('Forest Train accuracy %s' % clf.score(X_train, y_train)) "
   ]
  },
  {
   "cell_type": "code",
   "execution_count": 21,
   "id": "96a0c975",
   "metadata": {},
   "outputs": [],
   "source": [
    "X_test['Cover_Type'] = preds"
   ]
  },
  {
   "cell_type": "code",
   "execution_count": 22,
   "id": "0779e128",
   "metadata": {},
   "outputs": [],
   "source": [
    "test_sub = X_test[['Id', 'Cover_Type']]"
   ]
  },
  {
   "cell_type": "code",
   "execution_count": 25,
   "id": "5df9ea92",
   "metadata": {},
   "outputs": [],
   "source": [
    "test_sub.to_csv('test_extra_1.csv', index=False)"
   ]
  },
  {
   "cell_type": "code",
   "execution_count": 24,
   "id": "efae8fa0",
   "metadata": {},
   "outputs": [
    {
     "data": {
      "text/html": [
       "<div>\n",
       "<style scoped>\n",
       "    .dataframe tbody tr th:only-of-type {\n",
       "        vertical-align: middle;\n",
       "    }\n",
       "\n",
       "    .dataframe tbody tr th {\n",
       "        vertical-align: top;\n",
       "    }\n",
       "\n",
       "    .dataframe thead th {\n",
       "        text-align: right;\n",
       "    }\n",
       "</style>\n",
       "<table border=\"1\" class=\"dataframe\">\n",
       "  <thead>\n",
       "    <tr style=\"text-align: right;\">\n",
       "      <th></th>\n",
       "      <th>Id</th>\n",
       "      <th>Cover_Type</th>\n",
       "    </tr>\n",
       "  </thead>\n",
       "  <tbody>\n",
       "    <tr>\n",
       "      <th>0</th>\n",
       "      <td>1</td>\n",
       "      <td>5</td>\n",
       "    </tr>\n",
       "    <tr>\n",
       "      <th>1</th>\n",
       "      <td>2</td>\n",
       "      <td>5</td>\n",
       "    </tr>\n",
       "    <tr>\n",
       "      <th>2</th>\n",
       "      <td>3</td>\n",
       "      <td>2</td>\n",
       "    </tr>\n",
       "    <tr>\n",
       "      <th>3</th>\n",
       "      <td>4</td>\n",
       "      <td>2</td>\n",
       "    </tr>\n",
       "    <tr>\n",
       "      <th>4</th>\n",
       "      <td>5</td>\n",
       "      <td>5</td>\n",
       "    </tr>\n",
       "    <tr>\n",
       "      <th>...</th>\n",
       "      <td>...</td>\n",
       "      <td>...</td>\n",
       "    </tr>\n",
       "    <tr>\n",
       "      <th>581007</th>\n",
       "      <td>581008</td>\n",
       "      <td>3</td>\n",
       "    </tr>\n",
       "    <tr>\n",
       "      <th>581008</th>\n",
       "      <td>581009</td>\n",
       "      <td>3</td>\n",
       "    </tr>\n",
       "    <tr>\n",
       "      <th>581009</th>\n",
       "      <td>581010</td>\n",
       "      <td>3</td>\n",
       "    </tr>\n",
       "    <tr>\n",
       "      <th>581010</th>\n",
       "      <td>581011</td>\n",
       "      <td>3</td>\n",
       "    </tr>\n",
       "    <tr>\n",
       "      <th>581011</th>\n",
       "      <td>581012</td>\n",
       "      <td>3</td>\n",
       "    </tr>\n",
       "  </tbody>\n",
       "</table>\n",
       "<p>581012 rows × 2 columns</p>\n",
       "</div>"
      ],
      "text/plain": [
       "            Id  Cover_Type\n",
       "0            1           5\n",
       "1            2           5\n",
       "2            3           2\n",
       "3            4           2\n",
       "4            5           5\n",
       "...        ...         ...\n",
       "581007  581008           3\n",
       "581008  581009           3\n",
       "581009  581010           3\n",
       "581010  581011           3\n",
       "581011  581012           3\n",
       "\n",
       "[581012 rows x 2 columns]"
      ]
     },
     "execution_count": 24,
     "metadata": {},
     "output_type": "execute_result"
    }
   ],
   "source": [
    "test_sub"
   ]
  },
  {
   "cell_type": "code",
   "execution_count": null,
   "id": "22fa9ee5",
   "metadata": {},
   "outputs": [],
   "source": [
    "from sklearn.metrics import accuracy_score\n",
    "accuracy_score(y_test, preds)"
   ]
  },
  {
   "cell_type": "code",
   "execution_count": null,
   "id": "f50f4c0a",
   "metadata": {},
   "outputs": [],
   "source": []
  }
 ],
 "metadata": {
  "kernelspec": {
   "display_name": "Python 3",
   "language": "python",
   "name": "python3"
  },
  "language_info": {
   "codemirror_mode": {
    "name": "ipython",
    "version": 3
   },
   "file_extension": ".py",
   "mimetype": "text/x-python",
   "name": "python",
   "nbconvert_exporter": "python",
   "pygments_lexer": "ipython3",
   "version": "3.8.8"
  }
 },
 "nbformat": 4,
 "nbformat_minor": 5
}
